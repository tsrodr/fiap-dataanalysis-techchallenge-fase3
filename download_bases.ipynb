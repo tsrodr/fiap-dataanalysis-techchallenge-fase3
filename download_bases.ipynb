{
 "cells": [
  {
   "cell_type": "code",
   "execution_count": 1,
   "metadata": {},
   "outputs": [],
   "source": [
    "import os\n",
    "import requests as r\n",
    "import zipfile"
   ]
  },
  {
   "cell_type": "code",
   "execution_count": 2,
   "metadata": {},
   "outputs": [],
   "source": [
    "# Diretório base para armazenar os dados\n",
    "diretorio_base = 'data/'\n",
    "\n",
    "# Lista de sufixos para os arquivos a serem baixados\n",
    "sufixos_arquivos = [\n",
    "    '052020',\n",
    "    '062020',\n",
    "    '072020',\n",
    "    '082020',\n",
    "    '092020',\n",
    "    '102020',\n",
    "    '112020',\n",
    "]\n",
    "# Prefixo para os nomes dos arquivos\n",
    "prefixo_arquivo = 'PNAD_COVID_'\n",
    "\n",
    "# URL base para baixar os arquivos\n",
    "url_base = 'https://ftp.ibge.gov.br/Trabalho_e_Rendimento/Pesquisa_Nacional_por_Amostra_de_Domicilios_PNAD_COVID19/Microdados/Dados/'"
   ]
  },
  {
   "cell_type": "code",
   "execution_count": 3,
   "metadata": {},
   "outputs": [],
   "source": [
    "def criar_diretorio(novo_diretorio='raw'):\n",
    "    \"\"\"\n",
    "    Cria um diretório se ele não existir.\n",
    "    \n",
    "    Parâmetros:\n",
    "    novo_diretorio (str): O diretório a ser criado.\n",
    "    \"\"\"\n",
    "    if not os.path.isdir(novo_diretorio):\n",
    "        print(f'-- Criando diretório {novo_diretorio}')\n",
    "        os.makedirs(novo_diretorio)"
   ]
  },
  {
   "cell_type": "code",
   "execution_count": 4,
   "metadata": {},
   "outputs": [],
   "source": [
    "def descompactar_arquivo(diretorio_saida, nome_arquivo, sufixo):\n",
    "    \"\"\"\n",
    "    Descompacta o arquivo baixado e remove o arquivo zip.\n",
    "    \n",
    "    Parâmetros:\n",
    "    diretorio_saida (str): O diretório onde o arquivo zip está localizado.\n",
    "    nome_arquivo (str): O nome do arquivo zip.\n",
    "    sufixo (str): O sufixo do arquivo.\n",
    "    \"\"\"\n",
    "    nome_arquivo = f'{prefixo_arquivo}{sufixo}.zip'\n",
    "    print(f'-- Descompactando {nome_arquivo} para {diretorio_saida}')\n",
    "    caminho_arquivo = f'{diretorio_saida}{nome_arquivo}'\n",
    "    with zipfile.ZipFile(caminho_arquivo, 'r') as zip_ref:\n",
    "        zip_ref.extractall(diretorio_saida)\n",
    "    os.remove(caminho_arquivo)"
   ]
  },
  {
   "cell_type": "code",
   "execution_count": 5,
   "metadata": {},
   "outputs": [],
   "source": [
    "def baixar_arquivos(diretorio_saida=f'{diretorio_base}raw/'):\n",
    "    \"\"\"\n",
    "    Baixa e descompacta arquivos da URL especificada.\n",
    "    \n",
    "    Parâmetros:\n",
    "    diretorio_saida (str): O diretório para salvar os arquivos baixados.\n",
    "    \"\"\"\n",
    "    criar_diretorio(diretorio_saida)\n",
    "    for sufixo in sufixos_arquivos:\n",
    "        nome_arquivo = f'{prefixo_arquivo}{sufixo}.zip'\n",
    "        arquivo_saida = f'{diretorio_saida}{nome_arquivo}'\n",
    "        print(f'-- Baixando {url_base}{nome_arquivo} para {arquivo_saida}')\n",
    "        resposta = r.get(f'{url_base}{nome_arquivo}')\n",
    "        with open(arquivo_saida, 'wb') as arquivo:\n",
    "            arquivo.write(resposta.content)\n",
    "        descompactar_arquivo(diretorio_saida, nome_arquivo, sufixo)"
   ]
  },
  {
   "cell_type": "code",
   "execution_count": 6,
   "metadata": {},
   "outputs": [],
   "source": [
    "def baixar_documentacao():\n",
    "    \"\"\"\n",
    "    Baixa arquivos de documentação.\n",
    "    \"\"\"\n",
    "    prefixo_arquivo = 'Dicionario_PNAD_COVID_'\n",
    "    sufixo_fixo_arquivo = '_20220621.xls'\n",
    "    url_base = 'https://ftp.ibge.gov.br/Trabalho_e_Rendimento/Pesquisa_Nacional_por_Amostra_de_Domicilios_PNAD_COVID19/Microdados/Documentacao/'\n",
    "    diretorio_saida = f'{diretorio_base}raw/dimensoes/'\n",
    "    criar_diretorio(diretorio_saida)\n",
    "    for sufixo in sufixos_arquivos:\n",
    "        nome_arquivo = f'{prefixo_arquivo}{sufixo}{sufixo_fixo_arquivo}'\n",
    "        arquivo_saida = f'{diretorio_saida}{nome_arquivo}'\n",
    "        print(f'-- Baixando {url_base}{nome_arquivo} para {arquivo_saida}')\n",
    "        resposta = r.get(f'{url_base}{nome_arquivo}')\n",
    "        with open(arquivo_saida, 'wb') as arquivo:\n",
    "            arquivo.write(resposta.content)"
   ]
  },
  {
   "cell_type": "code",
   "execution_count": 7,
   "metadata": {},
   "outputs": [],
   "source": [
    "def obter_dados():\n",
    "    \"\"\"\n",
    "    Baixa dados e arquivos de documentação.\n",
    "    \"\"\"\n",
    "    baixar_arquivos()\n",
    "    baixar_documentacao()"
   ]
  },
  {
   "cell_type": "code",
   "execution_count": 8,
   "metadata": {},
   "outputs": [
    {
     "name": "stdout",
     "output_type": "stream",
     "text": [
      "-- Baixando https://ftp.ibge.gov.br/Trabalho_e_Rendimento/Pesquisa_Nacional_por_Amostra_de_Domicilios_PNAD_COVID19/Microdados/Dados/PNAD_COVID_052020.zip para data/raw/PNAD_COVID_052020.zip\n"
     ]
    },
    {
     "name": "stdout",
     "output_type": "stream",
     "text": [
      "-- Descompactando PNAD_COVID_052020.zip para data/raw/\n",
      "-- Baixando https://ftp.ibge.gov.br/Trabalho_e_Rendimento/Pesquisa_Nacional_por_Amostra_de_Domicilios_PNAD_COVID19/Microdados/Dados/PNAD_COVID_062020.zip para data/raw/PNAD_COVID_062020.zip\n",
      "-- Descompactando PNAD_COVID_062020.zip para data/raw/\n",
      "-- Baixando https://ftp.ibge.gov.br/Trabalho_e_Rendimento/Pesquisa_Nacional_por_Amostra_de_Domicilios_PNAD_COVID19/Microdados/Dados/PNAD_COVID_072020.zip para data/raw/PNAD_COVID_072020.zip\n",
      "-- Descompactando PNAD_COVID_072020.zip para data/raw/\n",
      "-- Baixando https://ftp.ibge.gov.br/Trabalho_e_Rendimento/Pesquisa_Nacional_por_Amostra_de_Domicilios_PNAD_COVID19/Microdados/Dados/PNAD_COVID_082020.zip para data/raw/PNAD_COVID_082020.zip\n",
      "-- Descompactando PNAD_COVID_082020.zip para data/raw/\n",
      "-- Baixando https://ftp.ibge.gov.br/Trabalho_e_Rendimento/Pesquisa_Nacional_por_Amostra_de_Domicilios_PNAD_COVID19/Microdados/Dados/PNAD_COVID_092020.zip para data/raw/PNAD_COVID_092020.zip\n",
      "-- Descompactando PNAD_COVID_092020.zip para data/raw/\n",
      "-- Baixando https://ftp.ibge.gov.br/Trabalho_e_Rendimento/Pesquisa_Nacional_por_Amostra_de_Domicilios_PNAD_COVID19/Microdados/Dados/PNAD_COVID_102020.zip para data/raw/PNAD_COVID_102020.zip\n",
      "-- Descompactando PNAD_COVID_102020.zip para data/raw/\n",
      "-- Baixando https://ftp.ibge.gov.br/Trabalho_e_Rendimento/Pesquisa_Nacional_por_Amostra_de_Domicilios_PNAD_COVID19/Microdados/Dados/PNAD_COVID_112020.zip para data/raw/PNAD_COVID_112020.zip\n",
      "-- Descompactando PNAD_COVID_112020.zip para data/raw/\n",
      "-- Baixando https://ftp.ibge.gov.br/Trabalho_e_Rendimento/Pesquisa_Nacional_por_Amostra_de_Domicilios_PNAD_COVID19/Microdados/Documentacao/Dicionario_PNAD_COVID_052020_20220621.xls para data/raw/dimensoes/Dicionario_PNAD_COVID_052020_20220621.xls\n",
      "-- Baixando https://ftp.ibge.gov.br/Trabalho_e_Rendimento/Pesquisa_Nacional_por_Amostra_de_Domicilios_PNAD_COVID19/Microdados/Documentacao/Dicionario_PNAD_COVID_062020_20220621.xls para data/raw/dimensoes/Dicionario_PNAD_COVID_062020_20220621.xls\n",
      "-- Baixando https://ftp.ibge.gov.br/Trabalho_e_Rendimento/Pesquisa_Nacional_por_Amostra_de_Domicilios_PNAD_COVID19/Microdados/Documentacao/Dicionario_PNAD_COVID_072020_20220621.xls para data/raw/dimensoes/Dicionario_PNAD_COVID_072020_20220621.xls\n",
      "-- Baixando https://ftp.ibge.gov.br/Trabalho_e_Rendimento/Pesquisa_Nacional_por_Amostra_de_Domicilios_PNAD_COVID19/Microdados/Documentacao/Dicionario_PNAD_COVID_082020_20220621.xls para data/raw/dimensoes/Dicionario_PNAD_COVID_082020_20220621.xls\n",
      "-- Baixando https://ftp.ibge.gov.br/Trabalho_e_Rendimento/Pesquisa_Nacional_por_Amostra_de_Domicilios_PNAD_COVID19/Microdados/Documentacao/Dicionario_PNAD_COVID_092020_20220621.xls para data/raw/dimensoes/Dicionario_PNAD_COVID_092020_20220621.xls\n",
      "-- Baixando https://ftp.ibge.gov.br/Trabalho_e_Rendimento/Pesquisa_Nacional_por_Amostra_de_Domicilios_PNAD_COVID19/Microdados/Documentacao/Dicionario_PNAD_COVID_102020_20220621.xls para data/raw/dimensoes/Dicionario_PNAD_COVID_102020_20220621.xls\n",
      "-- Baixando https://ftp.ibge.gov.br/Trabalho_e_Rendimento/Pesquisa_Nacional_por_Amostra_de_Domicilios_PNAD_COVID19/Microdados/Documentacao/Dicionario_PNAD_COVID_112020_20220621.xls para data/raw/dimensoes/Dicionario_PNAD_COVID_112020_20220621.xls\n"
     ]
    }
   ],
   "source": [
    "# Executa a função para baixar dados e documentação\n",
    "obter_dados()"
   ]
  }
 ],
 "metadata": {
  "kernelspec": {
   "display_name": ".venv",
   "language": "python",
   "name": "python3"
  },
  "language_info": {
   "codemirror_mode": {
    "name": "ipython",
    "version": 3
   },
   "file_extension": ".py",
   "mimetype": "text/x-python",
   "name": "python",
   "nbconvert_exporter": "python",
   "pygments_lexer": "ipython3",
   "version": "3.12.3"
  }
 },
 "nbformat": 4,
 "nbformat_minor": 2
}
