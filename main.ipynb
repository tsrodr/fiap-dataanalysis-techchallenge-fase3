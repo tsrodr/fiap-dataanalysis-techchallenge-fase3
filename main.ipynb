{
 "cells": [
  {
   "cell_type": "code",
   "execution_count": 1,
   "metadata": {},
   "outputs": [],
   "source": [
    "from pyspark.sql import SparkSession\n",
    "import pyspark.sql.functions as F\n",
    "import pyspark.sql.types as T"
   ]
  },
  {
   "cell_type": "code",
   "execution_count": 2,
   "metadata": {},
   "outputs": [
    {
     "name": "stderr",
     "output_type": "stream",
     "text": [
      "24/08/18 17:36:34 WARN Utils: Your hostname, spark-VirtualBox resolves to a loopback address: 127.0.1.1; using 10.0.2.15 instead (on interface enp0s3)\n",
      "24/08/18 17:36:34 WARN Utils: Set SPARK_LOCAL_IP if you need to bind to another address\n",
      "24/08/18 17:36:34 WARN NativeCodeLoader: Unable to load native-hadoop library for your platform... using builtin-java classes where applicable\n",
      "Setting default log level to \"WARN\".\n",
      "To adjust logging level use sc.setLogLevel(newLevel). For SparkR, use setLogLevel(newLevel).\n"
     ]
    },
    {
     "name": "stderr",
     "output_type": "stream",
     "text": [
      "24/08/18 17:36:49 WARN GarbageCollectionMetrics: To enable non-built-in garbage collector(s) List(G1 Concurrent GC), users should configure it(them) to spark.eventLog.gcMetrics.youngGenerationGarbageCollectors or spark.eventLog.gcMetrics.oldGenerationGarbageCollectors\n"
     ]
    }
   ],
   "source": [
    "# Crie uma sessão Spark\n",
    "spark = SparkSession.builder \\\n",
    "    .appName(\"tech-challenge-fase3\") \\\n",
    "    .getOrCreate()"
   ]
  },
  {
   "cell_type": "code",
   "execution_count": 34,
   "metadata": {},
   "outputs": [],
   "source": [
    "# Ler os arquivos Parquet\n",
    "df_data = spark.read.parquet(\"./data/parquet/tbx001_data.parquet\")\n",
    "df_states = spark.read.parquet(\"./data/parquet/tbx002_states.parquet\")\n",
    "df_gender = spark.read.parquet(\"./data/parquet/tbx003_gender.parquet\")\n",
    "df_residential_area = spark.read.parquet(\"./data/parquet/tbx004_residential_area.parquet\")"
   ]
  },
  {
   "cell_type": "code",
   "execution_count": 36,
   "metadata": {},
   "outputs": [],
   "source": [
    "# Registrar os DataFrames como tabelas temporárias\n",
    "df_data.createOrReplaceTempView(\"tbx001_data\")\n",
    "df_states.createOrReplaceTempView(\"tbx002_states\")\n",
    "df_gender.createOrReplaceTempView(\"tbx003_gender\")\n",
    "df_residential_area.createOrReplaceTempView(\"tbx004_residential_area\")"
   ]
  },
  {
   "cell_type": "code",
   "execution_count": 37,
   "metadata": {},
   "outputs": [],
   "source": [
    "# Realizar o join entre as tabelas usando SQL\n",
    "query = \"\"\"\n",
    "SELECT \n",
    "    t1.uf,\n",
    "    t1.semana_mes,\n",
    "    t1.mes,\n",
    "    t1.area_domicilio,\n",
    "    t1.idade,\n",
    "    t2.name as sexo,\n",
    "    t1.cor_raca,\n",
    "    t1.escolaridade,\n",
    "    t1.teve_febre,\n",
    "    t1.teve_dificuldade_respirar,\n",
    "    t1.teve_dor_cabeca,\n",
    "    t1.teve_fadiga,\n",
    "    t1.teve_perda_cheiro,\n",
    "    t1.foi_posto_saude,\n",
    "    t1.ficou_em_casa,\n",
    "    t1.ficou_internado,\n",
    "    t1.tem_plano_saude,\n",
    "    t1.assalariado,\n",
    "    t1.faixa_rendimento,\n",
    "    t1.situacao_domicilio,\n",
    "    t1.resultado_covid\n",
    "FROM tbx001_data t1\n",
    "JOIN tbx003_gender t2\n",
    "ON t1.sexo = t2.id\n",
    "\"\"\"\n",
    "# Executar a consulta SQL\n",
    "df_joined = spark.sql(query)"
   ]
  },
  {
   "cell_type": "code",
   "execution_count": 38,
   "metadata": {},
   "outputs": [
    {
     "name": "stdout",
     "output_type": "stream",
     "text": [
      "+---+----------+---+--------------+-----+---------+--------+------------+----------+-------------------------+---------------+-----------+-----------------+---------------+-------------+---------------+---------------+-----------+----------------+------------------+---------------+\n",
      "| uf|semana_mes|mes|area_domicilio|idade|     sexo|cor_raca|escolaridade|teve_febre|teve_dificuldade_respirar|teve_dor_cabeca|teve_fadiga|teve_perda_cheiro|foi_posto_saude|ficou_em_casa|ficou_internado|tem_plano_saude|assalariado|faixa_rendimento|situacao_domicilio|resultado_covid|\n",
      "+---+----------+---+--------------+-----+---------+--------+------------+----------+-------------------------+---------------+-----------+-----------------+---------------+-------------+---------------+---------------+-----------+----------------+------------------+---------------+\n",
      "| 11|         4| 06|             1|  035|Masculino|       4|           5|         2|                        2|              2|       NULL|             NULL|           NULL|         NULL|           NULL|           NULL|         04|            NULL|              NULL|           NULL|\n",
      "| 11|         4| 06|             1|  029| Feminino|       4|           7|         2|                        2|              2|       NULL|             NULL|           NULL|         NULL|              1|              1|         00|            NULL|              NULL|           NULL|\n",
      "| 11|         4| 06|             1|  013|Masculino|       4|           2|         2|                        2|              2|       NULL|             NULL|           NULL|         NULL|           NULL|           NULL|       NULL|            NULL|              NULL|           NULL|\n",
      "| 11|         4| 06|             1|  010|Masculino|       4|           2|         2|                        2|              2|       NULL|             NULL|           NULL|         NULL|           NULL|           NULL|       NULL|            NULL|              NULL|           NULL|\n",
      "| 11|         1| 06|             1|  057| Feminino|       1|           2|         2|                        2|              2|       NULL|             NULL|           NULL|         NULL|           NULL|           NULL|       NULL|            NULL|              NULL|           NULL|\n",
      "| 11|         4| 06|             1|  047|Masculino|       4|           2|         2|                        2|              2|       NULL|             NULL|           NULL|         NULL|              1|              1|         00|            NULL|              NULL|           NULL|\n",
      "| 11|         4| 06|             1|  018| Feminino|       4|           2|         2|                        2|              2|       NULL|             NULL|           NULL|         NULL|           NULL|           NULL|       NULL|            NULL|              NULL|           NULL|\n",
      "| 11|         4| 06|             1|  011|Masculino|       4|           2|         2|                        2|              2|       NULL|             NULL|           NULL|         NULL|           NULL|           NULL|       NULL|            NULL|              NULL|           NULL|\n",
      "| 11|         4| 06|             1|  009| Feminino|       4|           2|         2|                        2|              2|       NULL|             NULL|           NULL|         NULL|           NULL|           NULL|       NULL|            NULL|              NULL|           NULL|\n",
      "| 11|         4| 06|             1|  010|Masculino|       4|           2|         2|                        2|              2|       NULL|             NULL|           NULL|         NULL|           NULL|           NULL|       NULL|            NULL|              NULL|           NULL|\n",
      "| 11|         4| 06|             1|  026|Masculino|       4|           5|         2|                        2|              2|       NULL|             NULL|           NULL|         NULL|           NULL|           NULL|       NULL|            NULL|              NULL|           NULL|\n",
      "| 11|         4| 06|             1|  014|Masculino|       3|           2|         2|                        2|              2|       NULL|             NULL|           NULL|         NULL|           NULL|           NULL|       NULL|            NULL|              NULL|           NULL|\n",
      "| 11|         4| 06|             1|  015| Feminino|       4|           2|         2|                        2|              2|       NULL|             NULL|           NULL|         NULL|           NULL|           NULL|       NULL|            NULL|              NULL|           NULL|\n",
      "| 11|         3| 06|             1|  062|Masculino|       4|           1|         2|                        2|              2|       NULL|             NULL|           NULL|         NULL|           NULL|           NULL|       NULL|            NULL|              NULL|           NULL|\n",
      "| 11|         3| 06|             1|  062| Feminino|       4|           2|         2|                        2|              2|       NULL|             NULL|           NULL|         NULL|           NULL|           NULL|       NULL|            NULL|              NULL|           NULL|\n",
      "| 11|         2| 06|             1|  056| Feminino|       4|           2|         2|                        2|              2|       NULL|             NULL|           NULL|         NULL|           NULL|           NULL|       NULL|            NULL|              NULL|           NULL|\n",
      "| 11|         2| 06|             1|  053|Masculino|       2|           2|         2|                        2|              2|       NULL|             NULL|           NULL|         NULL|              2|           NULL|         04|            NULL|              NULL|           NULL|\n",
      "| 11|         2| 06|             1|  017| Feminino|       1|           4|         2|                        2|              2|       NULL|             NULL|           NULL|         NULL|           NULL|           NULL|       NULL|            NULL|              NULL|           NULL|\n",
      "| 11|         3| 06|             1|  034|Masculino|       4|           5|         2|                        1|              2|          1|             NULL|           NULL|         NULL|           NULL|           NULL|         04|            NULL|              NULL|           NULL|\n",
      "| 11|         3| 06|             1|  026| Feminino|       4|           6|         2|                        2|              2|       NULL|             NULL|           NULL|         NULL|              1|           NULL|         04|            NULL|              NULL|           NULL|\n",
      "+---+----------+---+--------------+-----+---------+--------+------------+----------+-------------------------+---------------+-----------+-----------------+---------------+-------------+---------------+---------------+-----------+----------------+------------------+---------------+\n",
      "only showing top 20 rows\n",
      "\n"
     ]
    }
   ],
   "source": [
    "# Exibir o resultado do join\n",
    "df_joined.show()"
   ]
  }
 ],
 "metadata": {
  "kernelspec": {
   "display_name": ".venv",
   "language": "python",
   "name": "python3"
  },
  "language_info": {
   "codemirror_mode": {
    "name": "ipython",
    "version": 3
   },
   "file_extension": ".py",
   "mimetype": "text/x-python",
   "name": "python",
   "nbconvert_exporter": "python",
   "pygments_lexer": "ipython3",
   "version": "3.12.3"
  }
 },
 "nbformat": 4,
 "nbformat_minor": 2
}
